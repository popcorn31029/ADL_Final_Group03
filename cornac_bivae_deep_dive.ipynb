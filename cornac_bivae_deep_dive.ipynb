{
 "cells": [
  {
   "cell_type": "code",
   "execution_count": 2,
   "metadata": {},
   "outputs": [
    {
     "name": "stdout",
     "output_type": "stream",
     "text": [
      "PyTorch version: 1.12.0+cu113\n",
      "Cornac version: 1.10.0\n"
     ]
    }
   ],
   "source": [
    "import sys\n",
    "import os\n",
    "import torch\n",
    "import cornac\n",
    "# import papermill as pm\n",
    "# import scrapbook as sb\n",
    "import pandas as pd\n",
    "from recommenders.datasets import movielens\n",
    "from recommenders.datasets.python_splitters import python_random_split\n",
    "from recommenders.evaluation.python_evaluation import map_at_k, ndcg_at_k, precision_at_k, recall_at_k\n",
    "from recommenders.models.cornac.cornac_utils import predict_ranking\n",
    "from recommenders.utils.timer import Timer\n",
    "from recommenders.utils.constants import SEED\n",
    "\n",
    "print(\"PyTorch version: {}\".format(torch.__version__))\n",
    "print(\"Cornac version: {}\".format(cornac.__version__))"
   ]
  },
  {
   "cell_type": "code",
   "execution_count": 16,
   "metadata": {},
   "outputs": [
    {
     "name": "stderr",
     "output_type": "stream",
     "text": [
      "100%|██████████| 59737/59737 [03:06<00:00, 321.15it/s]\n"
     ]
    },
    {
     "data": {
      "text/html": [
       "<div>\n",
       "<style scoped>\n",
       "    .dataframe tbody tr th:only-of-type {\n",
       "        vertical-align: middle;\n",
       "    }\n",
       "\n",
       "    .dataframe tbody tr th {\n",
       "        vertical-align: top;\n",
       "    }\n",
       "\n",
       "    .dataframe thead th {\n",
       "        text-align: right;\n",
       "    }\n",
       "</style>\n",
       "<table border=\"1\" class=\"dataframe\">\n",
       "  <thead>\n",
       "    <tr style=\"text-align: right;\">\n",
       "      <th></th>\n",
       "      <th>userID</th>\n",
       "      <th>itemID</th>\n",
       "      <th>value</th>\n",
       "    </tr>\n",
       "  </thead>\n",
       "  <tbody>\n",
       "    <tr>\n",
       "      <th>0</th>\n",
       "      <td>5bdecbfffec014002166796a</td>\n",
       "      <td>5f194354cad0d086f3ee24cf</td>\n",
       "      <td>1.0</td>\n",
       "    </tr>\n",
       "    <tr>\n",
       "      <th>1</th>\n",
       "      <td>5fedf958af850a915c86362c</td>\n",
       "      <td>5bfd47782d018e0020e4b0e4</td>\n",
       "      <td>1.0</td>\n",
       "    </tr>\n",
       "    <tr>\n",
       "      <th>2</th>\n",
       "      <td>5fedf958af850a915c86362c</td>\n",
       "      <td>5fc4a352d375951a03cc0d45</td>\n",
       "      <td>1.0</td>\n",
       "    </tr>\n",
       "    <tr>\n",
       "      <th>3</th>\n",
       "      <td>5fedf958af850a915c86362c</td>\n",
       "      <td>6090dda489d06d6a564c9a78</td>\n",
       "      <td>1.0</td>\n",
       "    </tr>\n",
       "    <tr>\n",
       "      <th>4</th>\n",
       "      <td>5fedf958af850a915c86362c</td>\n",
       "      <td>5fd9b1ce0fb8aa8b32928d5b</td>\n",
       "      <td>1.0</td>\n",
       "    </tr>\n",
       "    <tr>\n",
       "      <th>...</th>\n",
       "      <td>...</td>\n",
       "      <td>...</td>\n",
       "      <td>...</td>\n",
       "    </tr>\n",
       "    <tr>\n",
       "      <th>139603</th>\n",
       "      <td>60e66f29be3e3b0006c4db75</td>\n",
       "      <td>55ae208a7b4d9910001198f2</td>\n",
       "      <td>1.0</td>\n",
       "    </tr>\n",
       "    <tr>\n",
       "      <th>139604</th>\n",
       "      <td>60e2b05ee742c300072ff5b3</td>\n",
       "      <td>600538ff0cf6c91168243a88</td>\n",
       "      <td>1.0</td>\n",
       "    </tr>\n",
       "    <tr>\n",
       "      <th>139605</th>\n",
       "      <td>60da0995947dfc0fb61ef296</td>\n",
       "      <td>5edf464fb54d0f59f0e7d96a</td>\n",
       "      <td>1.0</td>\n",
       "    </tr>\n",
       "    <tr>\n",
       "      <th>139606</th>\n",
       "      <td>5fd5ea567642a9ec30c89643</td>\n",
       "      <td>5a2170d5a6d4a5001ec3148d</td>\n",
       "      <td>1.0</td>\n",
       "    </tr>\n",
       "    <tr>\n",
       "      <th>139607</th>\n",
       "      <td>5fd5ea567642a9ec30c89643</td>\n",
       "      <td>5b9d3a6dca498a001e917383</td>\n",
       "      <td>1.0</td>\n",
       "    </tr>\n",
       "  </tbody>\n",
       "</table>\n",
       "<p>139608 rows × 3 columns</p>\n",
       "</div>"
      ],
      "text/plain": [
       "                          userID                    itemID  value\n",
       "0       5bdecbfffec014002166796a  5f194354cad0d086f3ee24cf    1.0\n",
       "1       5fedf958af850a915c86362c  5bfd47782d018e0020e4b0e4    1.0\n",
       "2       5fedf958af850a915c86362c  5fc4a352d375951a03cc0d45    1.0\n",
       "3       5fedf958af850a915c86362c  6090dda489d06d6a564c9a78    1.0\n",
       "4       5fedf958af850a915c86362c  5fd9b1ce0fb8aa8b32928d5b    1.0\n",
       "...                          ...                       ...    ...\n",
       "139603  60e66f29be3e3b0006c4db75  55ae208a7b4d9910001198f2    1.0\n",
       "139604  60e2b05ee742c300072ff5b3  600538ff0cf6c91168243a88    1.0\n",
       "139605  60da0995947dfc0fb61ef296  5edf464fb54d0f59f0e7d96a    1.0\n",
       "139606  5fd5ea567642a9ec30c89643  5a2170d5a6d4a5001ec3148d    1.0\n",
       "139607  5fd5ea567642a9ec30c89643  5b9d3a6dca498a001e917383    1.0\n",
       "\n",
       "[139608 rows x 3 columns]"
      ]
     },
     "execution_count": 16,
     "metadata": {},
     "output_type": "execute_result"
    }
   ],
   "source": [
    "from tqdm import tqdm\n",
    "import warnings\n",
    "warnings.filterwarnings(\"ignore\")\n",
    "\n",
    "data = {'userID': [], 'itemID': [],\t'value': []}\t\n",
    "data = pd.DataFrame(data)\n",
    "\n",
    "train_csv = 'data/train.csv'\n",
    "train_df = pd.read_csv(train_csv)\n",
    "\n",
    "for i, _ in enumerate(tqdm(range(train_df.shape[0]))):\n",
    "\n",
    "    user_id = train_df.iloc[i]['user_id']\n",
    "    course_seq = train_df.iloc[i]['course_id']\n",
    "    course_list = course_seq.split(' ')\n",
    "    #print(course_seq)\n",
    "\n",
    "    for course_id in course_list:\n",
    "\n",
    "        row = {'userID': user_id, 'itemID': course_id, 'value': 1.0}\n",
    "        data = data.append(row, ignore_index=True)\n",
    "        \n",
    "    # if i == 3:\n",
    "    #     break\n",
    "\n",
    "data"
   ]
  },
  {
   "cell_type": "code",
   "execution_count": 17,
   "metadata": {},
   "outputs": [
    {
     "name": "stdout",
     "output_type": "stream",
     "text": [
      "Number of users: 59737\n",
      "Number of items: 664\n"
     ]
    }
   ],
   "source": [
    "train_set = cornac.data.Dataset.from_uir(data.itertuples(index=False), seed=42)\n",
    "\n",
    "print('Number of users: {}'.format(train_set.num_users))\n",
    "print('Number of items: {}'.format(train_set.num_items))"
   ]
  },
  {
   "cell_type": "code",
   "execution_count": 18,
   "metadata": {},
   "outputs": [
    {
     "data": {
      "application/vnd.jupyter.widget-view+json": {
       "model_id": "d1c6e2c89d324c2d9c3e27f65d9594cc",
       "version_major": 2,
       "version_minor": 0
      },
      "text/plain": [
       "  0%|          | 0/500 [00:00<?, ?it/s]"
      ]
     },
     "metadata": {},
     "output_type": "display_data"
    },
    {
     "name": "stdout",
     "output_type": "stream",
     "text": [
      "Took 592.1513 seconds for training.\n"
     ]
    }
   ],
   "source": [
    "# Model parameters\n",
    "LATENT_DIM = 250\n",
    "ENCODER_DIMS = [100]\n",
    "ACT_FUNC = \"tanh\"\n",
    "LIKELIHOOD = \"pois\"\n",
    "NUM_EPOCHS = 500\n",
    "BATCH_SIZE = 128\n",
    "LEARNING_RATE = 0.001\n",
    "\n",
    "bivae = cornac.models.BiVAECF(\n",
    "    k=LATENT_DIM,\n",
    "    encoder_structure=ENCODER_DIMS,\n",
    "    act_fn=ACT_FUNC,\n",
    "    likelihood=LIKELIHOOD,\n",
    "    n_epochs=NUM_EPOCHS,\n",
    "    batch_size=BATCH_SIZE,\n",
    "    learning_rate=LEARNING_RATE,\n",
    "    seed=SEED,\n",
    "    use_gpu=torch.cuda.is_available(),\n",
    "    verbose=True\n",
    ")\n",
    "\n",
    "with Timer() as t:\n",
    "    bivae.fit(train_set)\n",
    "print(\"Took {} seconds for training.\".format(t))"
   ]
  },
  {
   "cell_type": "code",
   "execution_count": 19,
   "metadata": {},
   "outputs": [
    {
     "name": "stdout",
     "output_type": "stream",
     "text": [
      "Took 5.3015 seconds for prediction.\n"
     ]
    },
    {
     "data": {
      "text/html": [
       "<div>\n",
       "<style scoped>\n",
       "    .dataframe tbody tr th:only-of-type {\n",
       "        vertical-align: middle;\n",
       "    }\n",
       "\n",
       "    .dataframe tbody tr th {\n",
       "        vertical-align: top;\n",
       "    }\n",
       "\n",
       "    .dataframe thead th {\n",
       "        text-align: right;\n",
       "    }\n",
       "</style>\n",
       "<table border=\"1\" class=\"dataframe\">\n",
       "  <thead>\n",
       "    <tr style=\"text-align: right;\">\n",
       "      <th></th>\n",
       "      <th>userID</th>\n",
       "      <th>itemID</th>\n",
       "      <th>prediction</th>\n",
       "    </tr>\n",
       "  </thead>\n",
       "  <tbody>\n",
       "    <tr>\n",
       "      <th>0</th>\n",
       "      <td>5bdecbfffec014002166796a</td>\n",
       "      <td>5f194354cad0d086f3ee24cf</td>\n",
       "      <td>2.529816e-03</td>\n",
       "    </tr>\n",
       "    <tr>\n",
       "      <th>1</th>\n",
       "      <td>5bdecbfffec014002166796a</td>\n",
       "      <td>5bfd47782d018e0020e4b0e4</td>\n",
       "      <td>2.427331e-03</td>\n",
       "    </tr>\n",
       "    <tr>\n",
       "      <th>2</th>\n",
       "      <td>5bdecbfffec014002166796a</td>\n",
       "      <td>5fc4a352d375951a03cc0d45</td>\n",
       "      <td>4.960350e-03</td>\n",
       "    </tr>\n",
       "    <tr>\n",
       "      <th>3</th>\n",
       "      <td>5bdecbfffec014002166796a</td>\n",
       "      <td>6090dda489d06d6a564c9a78</td>\n",
       "      <td>6.467618e-04</td>\n",
       "    </tr>\n",
       "    <tr>\n",
       "      <th>4</th>\n",
       "      <td>5bdecbfffec014002166796a</td>\n",
       "      <td>5fd9b1ce0fb8aa8b32928d5b</td>\n",
       "      <td>1.150339e-02</td>\n",
       "    </tr>\n",
       "    <tr>\n",
       "      <th>...</th>\n",
       "      <td>...</td>\n",
       "      <td>...</td>\n",
       "      <td>...</td>\n",
       "    </tr>\n",
       "    <tr>\n",
       "      <th>39665363</th>\n",
       "      <td>5fd5ea567642a9ec30c89643</td>\n",
       "      <td>55ae34247b4d99100011990d</td>\n",
       "      <td>4.823733e-07</td>\n",
       "    </tr>\n",
       "    <tr>\n",
       "      <th>39665364</th>\n",
       "      <td>5fd5ea567642a9ec30c89643</td>\n",
       "      <td>5d8dfd62a7e8fe0020d77b7e</td>\n",
       "      <td>1.486876e-07</td>\n",
       "    </tr>\n",
       "    <tr>\n",
       "      <th>39665365</th>\n",
       "      <td>5fd5ea567642a9ec30c89643</td>\n",
       "      <td>586a2519f108e00800c26e61</td>\n",
       "      <td>8.343290e-08</td>\n",
       "    </tr>\n",
       "    <tr>\n",
       "      <th>39665366</th>\n",
       "      <td>5fd5ea567642a9ec30c89643</td>\n",
       "      <td>5f55fb39b34335d28416bd0c</td>\n",
       "      <td>1.823020e-07</td>\n",
       "    </tr>\n",
       "    <tr>\n",
       "      <th>39665367</th>\n",
       "      <td>5fd5ea567642a9ec30c89643</td>\n",
       "      <td>60c2e123dcc8c38df47514c1</td>\n",
       "      <td>1.741616e-07</td>\n",
       "    </tr>\n",
       "  </tbody>\n",
       "</table>\n",
       "<p>39665368 rows × 3 columns</p>\n",
       "</div>"
      ],
      "text/plain": [
       "                            userID                    itemID    prediction\n",
       "0         5bdecbfffec014002166796a  5f194354cad0d086f3ee24cf  2.529816e-03\n",
       "1         5bdecbfffec014002166796a  5bfd47782d018e0020e4b0e4  2.427331e-03\n",
       "2         5bdecbfffec014002166796a  5fc4a352d375951a03cc0d45  4.960350e-03\n",
       "3         5bdecbfffec014002166796a  6090dda489d06d6a564c9a78  6.467618e-04\n",
       "4         5bdecbfffec014002166796a  5fd9b1ce0fb8aa8b32928d5b  1.150339e-02\n",
       "...                            ...                       ...           ...\n",
       "39665363  5fd5ea567642a9ec30c89643  55ae34247b4d99100011990d  4.823733e-07\n",
       "39665364  5fd5ea567642a9ec30c89643  5d8dfd62a7e8fe0020d77b7e  1.486876e-07\n",
       "39665365  5fd5ea567642a9ec30c89643  586a2519f108e00800c26e61  8.343290e-08\n",
       "39665366  5fd5ea567642a9ec30c89643  5f55fb39b34335d28416bd0c  1.823020e-07\n",
       "39665367  5fd5ea567642a9ec30c89643  60c2e123dcc8c38df47514c1  1.741616e-07\n",
       "\n",
       "[39665368 rows x 3 columns]"
      ]
     },
     "execution_count": 19,
     "metadata": {},
     "output_type": "execute_result"
    }
   ],
   "source": [
    "with Timer() as t:\n",
    "    all_predictions = predict_ranking(bivae, data, usercol='userID', itemcol='itemID', remove_seen=False)\n",
    "print(\"Took {} seconds for prediction.\".format(t))\n",
    "all_predictions"
   ]
  },
  {
   "cell_type": "code",
   "execution_count": 20,
   "metadata": {},
   "outputs": [
    {
     "name": "stderr",
     "output_type": "stream",
     "text": [
      "100%|██████████| 7205/7205 [1:55:19<00:00,  1.04it/s]\n"
     ]
    }
   ],
   "source": [
    "import csv\n",
    "from tqdm import tqdm\n",
    "\n",
    "pred_csv = 'output.csv'\n",
    "test_seen_csv = 'data/test_seen.csv'\n",
    "test_seen_df = pd.read_csv(test_seen_csv)\n",
    "user_id_list = test_seen_df['user_id'].values\n",
    "\n",
    "with open(pred_csv, 'w', newline='') as csvfile:\n",
    "    writer = csv.writer(csvfile)\n",
    "    writer.writerow(['user_id', 'course_id'])\n",
    "\n",
    "    for i, id in enumerate(tqdm(user_id_list)):\n",
    "        temp = all_predictions.loc[all_predictions['userID'] == id]\n",
    "        temp.sort_values(by=['prediction'], inplace=True, ascending=False)\n",
    "        temp = temp['itemID'].values\n",
    "\n",
    "        rec_list = []\n",
    "        for j, t in enumerate(temp):\n",
    "            if len(rec_list) > 50:\n",
    "                break\n",
    "            \n",
    "            rec_list.append(t)\n",
    "\n",
    "        rec_sequence = ' '.join(rec_list)        \n",
    "        writer.writerow([id, rec_sequence])\n",
    "\n",
    "print('Done !')"
   ]
  }
 ],
 "metadata": {
  "celltoolbar": "Tags",
  "kernelspec": {
   "display_name": "rep",
   "language": "python",
   "name": "python3"
  },
  "language_info": {
   "codemirror_mode": {
    "name": "ipython",
    "version": 3
   },
   "file_extension": ".py",
   "mimetype": "text/x-python",
   "name": "python",
   "nbconvert_exporter": "python",
   "pygments_lexer": "ipython3",
   "version": "3.8.15"
  },
  "vscode": {
   "interpreter": {
    "hash": "dfa498754ff214f72afd7b18a6aecdcb73a71440946db21a7b4609961138e70f"
   }
  }
 },
 "nbformat": 4,
 "nbformat_minor": 4
}
